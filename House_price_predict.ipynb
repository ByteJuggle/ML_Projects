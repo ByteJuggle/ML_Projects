{
  "nbformat": 4,
  "nbformat_minor": 0,
  "metadata": {
    "colab": {
      "provenance": [],
      "authorship_tag": "ABX9TyPmo5gvkZcDoXU+HbTNUrf1",
      "include_colab_link": true
    },
    "kernelspec": {
      "name": "python3",
      "display_name": "Python 3"
    },
    "language_info": {
      "name": "python"
    }
  },
  "cells": [
    {
      "cell_type": "markdown",
      "metadata": {
        "id": "view-in-github",
        "colab_type": "text"
      },
      "source": [
        "<a href=\"https://colab.research.google.com/github/ByteJuggle/ML_Projects/blob/main/House_price_predict.ipynb\" target=\"_parent\"><img src=\"https://colab.research.google.com/assets/colab-badge.svg\" alt=\"Open In Colab\"/></a>"
      ]
    },
    {
      "cell_type": "markdown",
      "source": [
        "House Price Predictions"
      ],
      "metadata": {
        "id": "OKK46qoKERdW"
      }
    },
    {
      "cell_type": "code",
      "execution_count": 4,
      "metadata": {
        "id": "rOT4KncID4IY"
      },
      "outputs": [],
      "source": [
        "# Generic Libraries\n",
        "import pandas as pd\n",
        "import matplotlib.pyplot as plt\n",
        "import numpy as np\n",
        "\n",
        "# Data Set\n",
        "from sklearn.datasets import fetch_california_housing"
      ]
    },
    {
      "cell_type": "code",
      "source": [
        "# get the data set\n",
        "data = fetch_california_housing()"
      ],
      "metadata": {
        "id": "pjjNBPrnGLer"
      },
      "execution_count": 5,
      "outputs": []
    },
    {
      "cell_type": "code",
      "source": [
        "print(data.DESCR)"
      ],
      "metadata": {
        "collapsed": true,
        "id": "yKvVjftmJJQn"
      },
      "execution_count": null,
      "outputs": []
    },
    {
      "cell_type": "code",
      "source": [
        "# independent data\n",
        "df = pd.DataFrame(data = data.data , columns = data.feature_names)\n",
        "df.head()"
      ],
      "metadata": {
        "collapsed": true,
        "id": "pfNN-uAQJoY9"
      },
      "execution_count": null,
      "outputs": []
    },
    {
      "cell_type": "code",
      "source": [
        "# dependent data\n",
        "df['Target'] = data.target\n",
        "df.head()"
      ],
      "metadata": {
        "collapsed": true,
        "id": "eE9G1SF9JwYr"
      },
      "execution_count": null,
      "outputs": []
    },
    {
      "cell_type": "markdown",
      "source": [
        "EDA"
      ],
      "metadata": {
        "id": "XsdpmktdJzMV"
      }
    },
    {
      "cell_type": "code",
      "source": [
        "pip install sweetviz"
      ],
      "metadata": {
        "collapsed": true,
        "id": "JtvR1ioUK9He"
      },
      "execution_count": null,
      "outputs": []
    },
    {
      "cell_type": "code",
      "source": [
        "import sweetviz as sv\n",
        "\n",
        "report = sv.analyze(df)\n",
        "\n",
        "report.show_html(\"./report.html\")"
      ],
      "metadata": {
        "collapsed": true,
        "id": "RawUAFuAJ8K4"
      },
      "execution_count": null,
      "outputs": []
    }
  ]
}